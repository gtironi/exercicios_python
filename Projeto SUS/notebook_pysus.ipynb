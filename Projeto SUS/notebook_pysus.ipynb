{
 "cells": [
  {
   "attachments": {},
   "cell_type": "markdown",
   "metadata": {},
   "source": [
    "### Importação das bibliotecas\n",
    "\n",
    "Para utilizar as bibliotecas `pysus`, foi necessário instalá-la previamente.\n",
    "\n",
    "Nesta célula, estamos importando as seguintes bibliotecas:"
   ]
  },
  {
   "cell_type": "code",
   "execution_count": null,
   "metadata": {},
   "outputs": [],
   "source": [
    "from pysus.online_data import SINAN\n",
    "from pysus.preprocessing.decoders import decodifica_idade_SINAN\n",
    "import pandas as pd"
   ]
  },
  {
   "attachments": {},
   "cell_type": "markdown",
   "metadata": {},
   "source": [
    "### Carregando os dados\n",
    "\n",
    "Baixei os dados disponíveis no banco de dados do SUS, referenta a doença leptospirose no ano de 2018 usando a biblioteca `pysus` usando o método `SINAN.download()`. Em seguida, converti os dados em um DataFrame chamado **dataframe**. Modifiquei a coluna `DT_NOTIFIC` para o formato de data usando o método `pd.to_datetime()`. Por fim, transformei o DataFrame em um arquivo CSV chamado 'Leptospirosis.csv' usando o método `to_csv()` do DataFrame."
   ]
  },
  {
   "cell_type": "code",
   "execution_count": null,
   "metadata": {},
   "outputs": [],
   "source": [
    "path = SINAN.download('Leptospirose', 2018)\n",
    "dataframe = pd.read_parquet(path)\n",
    "dataframe['DT_NOTIFIC'] = pd.to_datetime(dataframe['DT_NOTIFIC'])\n",
    "dataframe.to_csv('Leptospirose.csv', index=False)"
   ]
  },
  {
   "attachments": {},
   "cell_type": "markdown",
   "metadata": {},
   "source": [
    "Aqui, usando o método 'pd.read_csv()' li os dados do arquivo CSV 'Leptospirose.csv' gerado a anteriormmente em um novo DataFrame chamado **dataframe_lepto_2018**. Em seguida, novamente converti a coluna 'DT_NOTIFIC' para o formato de data, já que posteriormente estava dando erro sem esse comando. Então defini a coluna 'DT_NOTIFIC' como o índice DataFrame usando o método set_index() com o parâmetro inplace=True. Por fim, usei o comando print() para exibir o DataFrame dataframe_lepto_2018."
   ]
  }
 ],
 "metadata": {
  "language_info": {
   "name": "python"
  },
  "orig_nbformat": 4
 },
 "nbformat": 4,
 "nbformat_minor": 2
}
