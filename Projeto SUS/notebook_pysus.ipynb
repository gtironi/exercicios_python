{
 "cells": [
  {
   "attachments": {},
   "cell_type": "markdown",
   "metadata": {},
   "source": [
    "### Importação das bibliotecas\n",
    "\n",
    "Para utilizar as bibliotecas `pysus`, foi necessário instalá-la previamente.\n",
    "\n",
    "Com o código abaixo, foram importandas as bibliotecas `pandas` e `pysus`:"
   ]
  },
  {
   "cell_type": "code",
   "execution_count": 2,
   "metadata": {},
   "outputs": [],
   "source": [
    "from pysus.online_data import SINAN\n",
    "from pysus.preprocessing.decoders import decodifica_idade_SINAN\n",
    "import pandas as pd"
   ]
  },
  {
   "attachments": {},
   "cell_type": "markdown",
   "metadata": {},
   "source": [
    "### Carregando os dados\n",
    "\n",
    "Baixei os dados disponíveis no banco de dados do SUS, referenta a doença leptospirose no ano de 2018 usando a biblioteca `pysus` usando o método `SINAN.download()`. Em seguida, converti os dados em um dataframe chamado **dataframe**.   \n",
    "Modifiquei a coluna `DT_NOTIFIC` para o formato de data usando o método `pd.to_datetime()`. Por fim, transformei o dataframe em um arquivo CSV chamado 'Leptospirosis.csv' usando o método `to_csv()`."
   ]
  },
  {
   "cell_type": "code",
   "execution_count": 3,
   "metadata": {},
   "outputs": [],
   "source": [
    "path = SINAN.download('Leptospirose', 2018)\n",
    "dataframe = pd.read_parquet(path)\n",
    "dataframe['DT_NOTIFIC'] = pd.to_datetime(dataframe['DT_NOTIFIC'])\n",
    "dataframe.to_csv('Leptospirose.csv', index=False)"
   ]
  },
  {
   "attachments": {},
   "cell_type": "markdown",
   "metadata": {},
   "source": [
    "### Manipulando os dados\n",
    "\n",
    "Aqui, usando o método `pd.read_csv()`, li os dados do arquivo CSV 'Leptospirose.csv' gerado anteriormente em um novo dataframe chamado **dataframe_lepto_2018**. Em seguida, novamente converti a coluna `DT_NOTIFIC` para o formato de data, uma vez que estava dando erro sem esse comando.   \n",
    "Então, defini a coluna `DT_NOTIFIC` como o índice do dataframe usando o método `set_index()`.   \n",
    "\n",
    "O dataframe obtido pode ser visualizado abaixo do código.\n",
    "\n"
   ]
  },
  {
   "cell_type": "code",
   "execution_count": 4,
   "metadata": {},
   "outputs": [
    {
     "data": {
      "text/html": [
       "<div>\n",
       "<style scoped>\n",
       "    .dataframe tbody tr th:only-of-type {\n",
       "        vertical-align: middle;\n",
       "    }\n",
       "\n",
       "    .dataframe tbody tr th {\n",
       "        vertical-align: top;\n",
       "    }\n",
       "\n",
       "    .dataframe thead th {\n",
       "        text-align: right;\n",
       "    }\n",
       "</style>\n",
       "<table border=\"1\" class=\"dataframe\">\n",
       "  <thead>\n",
       "    <tr style=\"text-align: right;\">\n",
       "      <th></th>\n",
       "      <th>TP_NOT</th>\n",
       "      <th>ID_AGRAVO</th>\n",
       "      <th>SEM_NOT</th>\n",
       "      <th>NU_ANO</th>\n",
       "      <th>SG_UF_NOT</th>\n",
       "      <th>ID_MUNICIP</th>\n",
       "      <th>ID_REGIONA</th>\n",
       "      <th>ID_UNIDADE</th>\n",
       "      <th>DT_SIN_PRI</th>\n",
       "      <th>SEM_PRI</th>\n",
       "      <th>...</th>\n",
       "      <th>DT_RISCO3</th>\n",
       "      <th>DT_RISCO4</th>\n",
       "      <th>CO_MUN_R1</th>\n",
       "      <th>CO_MUN_R2</th>\n",
       "      <th>CO_MUN_R3</th>\n",
       "      <th>CO_MUN_R4</th>\n",
       "      <th>CO_UF_R1</th>\n",
       "      <th>CO_UF_R2</th>\n",
       "      <th>CO_UF_R3</th>\n",
       "      <th>CO_UF_R4</th>\n",
       "    </tr>\n",
       "    <tr>\n",
       "      <th>DT_NOTIFIC</th>\n",
       "      <th></th>\n",
       "      <th></th>\n",
       "      <th></th>\n",
       "      <th></th>\n",
       "      <th></th>\n",
       "      <th></th>\n",
       "      <th></th>\n",
       "      <th></th>\n",
       "      <th></th>\n",
       "      <th></th>\n",
       "      <th></th>\n",
       "      <th></th>\n",
       "      <th></th>\n",
       "      <th></th>\n",
       "      <th></th>\n",
       "      <th></th>\n",
       "      <th></th>\n",
       "      <th></th>\n",
       "      <th></th>\n",
       "      <th></th>\n",
       "      <th></th>\n",
       "    </tr>\n",
       "  </thead>\n",
       "  <tbody>\n",
       "    <tr>\n",
       "      <th>2018-01-01</th>\n",
       "      <td>2</td>\n",
       "      <td>A279</td>\n",
       "      <td>201801</td>\n",
       "      <td>2018</td>\n",
       "      <td>35</td>\n",
       "      <td>355220</td>\n",
       "      <td>1353</td>\n",
       "      <td>2708779</td>\n",
       "      <td>20171222</td>\n",
       "      <td>201751</td>\n",
       "      <td>...</td>\n",
       "      <td></td>\n",
       "      <td></td>\n",
       "      <td></td>\n",
       "      <td></td>\n",
       "      <td></td>\n",
       "      <td></td>\n",
       "      <td></td>\n",
       "      <td></td>\n",
       "      <td></td>\n",
       "      <td></td>\n",
       "    </tr>\n",
       "    <tr>\n",
       "      <th>2018-01-01</th>\n",
       "      <td>2</td>\n",
       "      <td>A279</td>\n",
       "      <td>201801</td>\n",
       "      <td>2018</td>\n",
       "      <td>41</td>\n",
       "      <td>410690</td>\n",
       "      <td>1356</td>\n",
       "      <td>17396</td>\n",
       "      <td>20171230</td>\n",
       "      <td>201752</td>\n",
       "      <td>...</td>\n",
       "      <td></td>\n",
       "      <td></td>\n",
       "      <td></td>\n",
       "      <td></td>\n",
       "      <td></td>\n",
       "      <td></td>\n",
       "      <td></td>\n",
       "      <td></td>\n",
       "      <td></td>\n",
       "      <td></td>\n",
       "    </tr>\n",
       "    <tr>\n",
       "      <th>2018-01-01</th>\n",
       "      <td>2</td>\n",
       "      <td>A279</td>\n",
       "      <td>201801</td>\n",
       "      <td>2018</td>\n",
       "      <td>41</td>\n",
       "      <td>410040</td>\n",
       "      <td>1356</td>\n",
       "      <td>7463529</td>\n",
       "      <td>20171228</td>\n",
       "      <td>201752</td>\n",
       "      <td>...</td>\n",
       "      <td></td>\n",
       "      <td></td>\n",
       "      <td></td>\n",
       "      <td></td>\n",
       "      <td></td>\n",
       "      <td></td>\n",
       "      <td></td>\n",
       "      <td></td>\n",
       "      <td></td>\n",
       "      <td></td>\n",
       "    </tr>\n",
       "    <tr>\n",
       "      <th>2018-01-01</th>\n",
       "      <td>2</td>\n",
       "      <td>A279</td>\n",
       "      <td>201801</td>\n",
       "      <td>2018</td>\n",
       "      <td>43</td>\n",
       "      <td>431680</td>\n",
       "      <td>1609</td>\n",
       "      <td>9004688</td>\n",
       "      <td>20180101</td>\n",
       "      <td>201801</td>\n",
       "      <td>...</td>\n",
       "      <td></td>\n",
       "      <td></td>\n",
       "      <td></td>\n",
       "      <td></td>\n",
       "      <td></td>\n",
       "      <td></td>\n",
       "      <td></td>\n",
       "      <td></td>\n",
       "      <td></td>\n",
       "      <td></td>\n",
       "    </tr>\n",
       "    <tr>\n",
       "      <th>2018-01-01</th>\n",
       "      <td>2</td>\n",
       "      <td>A279</td>\n",
       "      <td>201801</td>\n",
       "      <td>2018</td>\n",
       "      <td>12</td>\n",
       "      <td>120040</td>\n",
       "      <td>1938</td>\n",
       "      <td>6439837</td>\n",
       "      <td>20171225</td>\n",
       "      <td>201752</td>\n",
       "      <td>...</td>\n",
       "      <td></td>\n",
       "      <td></td>\n",
       "      <td></td>\n",
       "      <td></td>\n",
       "      <td></td>\n",
       "      <td></td>\n",
       "      <td></td>\n",
       "      <td></td>\n",
       "      <td></td>\n",
       "      <td></td>\n",
       "    </tr>\n",
       "    <tr>\n",
       "      <th>...</th>\n",
       "      <td>...</td>\n",
       "      <td>...</td>\n",
       "      <td>...</td>\n",
       "      <td>...</td>\n",
       "      <td>...</td>\n",
       "      <td>...</td>\n",
       "      <td>...</td>\n",
       "      <td>...</td>\n",
       "      <td>...</td>\n",
       "      <td>...</td>\n",
       "      <td>...</td>\n",
       "      <td>...</td>\n",
       "      <td>...</td>\n",
       "      <td>...</td>\n",
       "      <td>...</td>\n",
       "      <td>...</td>\n",
       "      <td>...</td>\n",
       "      <td>...</td>\n",
       "      <td>...</td>\n",
       "      <td>...</td>\n",
       "      <td>...</td>\n",
       "    </tr>\n",
       "    <tr>\n",
       "      <th>2018-12-31</th>\n",
       "      <td>2</td>\n",
       "      <td>A279</td>\n",
       "      <td>201901</td>\n",
       "      <td>2018</td>\n",
       "      <td>31</td>\n",
       "      <td>310620</td>\n",
       "      <td>1449</td>\n",
       "      <td>23140</td>\n",
       "      <td>20181229</td>\n",
       "      <td>201852</td>\n",
       "      <td>...</td>\n",
       "      <td></td>\n",
       "      <td></td>\n",
       "      <td></td>\n",
       "      <td></td>\n",
       "      <td></td>\n",
       "      <td></td>\n",
       "      <td></td>\n",
       "      <td></td>\n",
       "      <td></td>\n",
       "      <td></td>\n",
       "    </tr>\n",
       "    <tr>\n",
       "      <th>2018-12-31</th>\n",
       "      <td>2</td>\n",
       "      <td>A279</td>\n",
       "      <td>201901</td>\n",
       "      <td>2018</td>\n",
       "      <td>52</td>\n",
       "      <td>520870</td>\n",
       "      <td>1779</td>\n",
       "      <td>2506661</td>\n",
       "      <td>20181125</td>\n",
       "      <td>201848</td>\n",
       "      <td>...</td>\n",
       "      <td></td>\n",
       "      <td></td>\n",
       "      <td></td>\n",
       "      <td></td>\n",
       "      <td></td>\n",
       "      <td></td>\n",
       "      <td></td>\n",
       "      <td></td>\n",
       "      <td></td>\n",
       "      <td></td>\n",
       "    </tr>\n",
       "    <tr>\n",
       "      <th>2018-12-31</th>\n",
       "      <td>2</td>\n",
       "      <td>A279</td>\n",
       "      <td>201901</td>\n",
       "      <td>2018</td>\n",
       "      <td>12</td>\n",
       "      <td>120040</td>\n",
       "      <td>1938</td>\n",
       "      <td>6439837</td>\n",
       "      <td>20181222</td>\n",
       "      <td>201851</td>\n",
       "      <td>...</td>\n",
       "      <td></td>\n",
       "      <td></td>\n",
       "      <td></td>\n",
       "      <td></td>\n",
       "      <td></td>\n",
       "      <td></td>\n",
       "      <td></td>\n",
       "      <td></td>\n",
       "      <td></td>\n",
       "      <td></td>\n",
       "    </tr>\n",
       "    <tr>\n",
       "      <th>2018-12-31</th>\n",
       "      <td>2</td>\n",
       "      <td>A279</td>\n",
       "      <td>201901</td>\n",
       "      <td>2018</td>\n",
       "      <td>16</td>\n",
       "      <td>160060</td>\n",
       "      <td></td>\n",
       "      <td>2021064</td>\n",
       "      <td>20181225</td>\n",
       "      <td>201852</td>\n",
       "      <td>...</td>\n",
       "      <td></td>\n",
       "      <td></td>\n",
       "      <td></td>\n",
       "      <td></td>\n",
       "      <td></td>\n",
       "      <td></td>\n",
       "      <td></td>\n",
       "      <td></td>\n",
       "      <td></td>\n",
       "      <td></td>\n",
       "    </tr>\n",
       "    <tr>\n",
       "      <th>2018-12-31</th>\n",
       "      <td>2</td>\n",
       "      <td>A279</td>\n",
       "      <td>201901</td>\n",
       "      <td>2018</td>\n",
       "      <td>35</td>\n",
       "      <td>353440</td>\n",
       "      <td>1335</td>\n",
       "      <td>5272378</td>\n",
       "      <td>20181226</td>\n",
       "      <td>201852</td>\n",
       "      <td>...</td>\n",
       "      <td></td>\n",
       "      <td></td>\n",
       "      <td></td>\n",
       "      <td></td>\n",
       "      <td></td>\n",
       "      <td></td>\n",
       "      <td></td>\n",
       "      <td></td>\n",
       "      <td></td>\n",
       "      <td></td>\n",
       "    </tr>\n",
       "  </tbody>\n",
       "</table>\n",
       "<p>16885 rows × 111 columns</p>\n",
       "</div>"
      ],
      "text/plain": [
       "            TP_NOT ID_AGRAVO  SEM_NOT  NU_ANO  SG_UF_NOT  ID_MUNICIP  \\\n",
       "DT_NOTIFIC                                                             \n",
       "2018-01-01       2      A279   201801    2018         35      355220   \n",
       "2018-01-01       2      A279   201801    2018         41      410690   \n",
       "2018-01-01       2      A279   201801    2018         41      410040   \n",
       "2018-01-01       2      A279   201801    2018         43      431680   \n",
       "2018-01-01       2      A279   201801    2018         12      120040   \n",
       "...            ...       ...      ...     ...        ...         ...   \n",
       "2018-12-31       2      A279   201901    2018         31      310620   \n",
       "2018-12-31       2      A279   201901    2018         52      520870   \n",
       "2018-12-31       2      A279   201901    2018         12      120040   \n",
       "2018-12-31       2      A279   201901    2018         16      160060   \n",
       "2018-12-31       2      A279   201901    2018         35      353440   \n",
       "\n",
       "           ID_REGIONA  ID_UNIDADE  DT_SIN_PRI  SEM_PRI  ... DT_RISCO3  \\\n",
       "DT_NOTIFIC                                              ...             \n",
       "2018-01-01   1353         2708779    20171222   201751  ...             \n",
       "2018-01-01   1356           17396    20171230   201752  ...             \n",
       "2018-01-01   1356         7463529    20171228   201752  ...             \n",
       "2018-01-01   1609         9004688    20180101   201801  ...             \n",
       "2018-01-01   1938         6439837    20171225   201752  ...             \n",
       "...               ...         ...         ...      ...  ...       ...   \n",
       "2018-12-31   1449           23140    20181229   201852  ...             \n",
       "2018-12-31   1779         2506661    20181125   201848  ...             \n",
       "2018-12-31   1938         6439837    20181222   201851  ...             \n",
       "2018-12-31                2021064    20181225   201852  ...             \n",
       "2018-12-31   1335         5272378    20181226   201852  ...             \n",
       "\n",
       "            DT_RISCO4 CO_MUN_R1  CO_MUN_R2 CO_MUN_R3 CO_MUN_R4 CO_UF_R1  \\\n",
       "DT_NOTIFIC                                                                \n",
       "2018-01-01                                                                \n",
       "2018-01-01                                                                \n",
       "2018-01-01                                                                \n",
       "2018-01-01                                                                \n",
       "2018-01-01                                                                \n",
       "...               ...       ...        ...       ...       ...      ...   \n",
       "2018-12-31                                                                \n",
       "2018-12-31                                                                \n",
       "2018-12-31                                                                \n",
       "2018-12-31                                                                \n",
       "2018-12-31                                                                \n",
       "\n",
       "           CO_UF_R2 CO_UF_R3  CO_UF_R4  \n",
       "DT_NOTIFIC                              \n",
       "2018-01-01                              \n",
       "2018-01-01                              \n",
       "2018-01-01                              \n",
       "2018-01-01                              \n",
       "2018-01-01                              \n",
       "...             ...      ...       ...  \n",
       "2018-12-31                              \n",
       "2018-12-31                              \n",
       "2018-12-31                              \n",
       "2018-12-31                              \n",
       "2018-12-31                              \n",
       "\n",
       "[16885 rows x 111 columns]"
      ]
     },
     "execution_count": 4,
     "metadata": {},
     "output_type": "execute_result"
    }
   ],
   "source": [
    "dataframe_lepto_2018 = pd.read_csv('Leptospirose.csv')\n",
    "dataframe_lepto_2018['DT_NOTIFIC'] = pd.to_datetime(dataframe_lepto_2018['DT_NOTIFIC'])\n",
    "dataframe_lepto_2018.set_index('DT_NOTIFIC', inplace = True)\n",
    "dataframe_lepto_2018"
   ]
  },
  {
   "attachments": {},
   "cell_type": "markdown",
   "metadata": {},
   "source": [
    "Para melhor visualização dos dados, mantive no dataframe apenas as variáveis que irei utilizar ao longo do trabalho.   \n",
    "Modifiquei o próproprio dataframe, pois sei que não usarei mais as variáveis excluidas. Contudo, caso necessárias, ainda podem ser acessadas pelo `CSV`.   \n",
    " \n",
    "Ficando o DataFrame resumido da seguinte forma:"
   ]
  },
  {
   "cell_type": "code",
   "execution_count": 5,
   "metadata": {},
   "outputs": [
    {
     "data": {
      "text/html": [
       "<div>\n",
       "<style scoped>\n",
       "    .dataframe tbody tr th:only-of-type {\n",
       "        vertical-align: middle;\n",
       "    }\n",
       "\n",
       "    .dataframe tbody tr th {\n",
       "        vertical-align: top;\n",
       "    }\n",
       "\n",
       "    .dataframe thead th {\n",
       "        text-align: right;\n",
       "    }\n",
       "</style>\n",
       "<table border=\"1\" class=\"dataframe\">\n",
       "  <thead>\n",
       "    <tr style=\"text-align: right;\">\n",
       "      <th></th>\n",
       "      <th>ID_MUNICIP</th>\n",
       "      <th>SG_UF</th>\n",
       "      <th>NU_IDADE_N</th>\n",
       "      <th>CS_SEXO</th>\n",
       "      <th>CS_RACA</th>\n",
       "    </tr>\n",
       "    <tr>\n",
       "      <th>DT_NOTIFIC</th>\n",
       "      <th></th>\n",
       "      <th></th>\n",
       "      <th></th>\n",
       "      <th></th>\n",
       "      <th></th>\n",
       "    </tr>\n",
       "  </thead>\n",
       "  <tbody>\n",
       "    <tr>\n",
       "      <th>2018-01-01</th>\n",
       "      <td>355220</td>\n",
       "      <td>35</td>\n",
       "      <td>4028</td>\n",
       "      <td>M</td>\n",
       "      <td>4</td>\n",
       "    </tr>\n",
       "    <tr>\n",
       "      <th>2018-01-01</th>\n",
       "      <td>410690</td>\n",
       "      <td>41</td>\n",
       "      <td>4012</td>\n",
       "      <td>F</td>\n",
       "      <td>2</td>\n",
       "    </tr>\n",
       "    <tr>\n",
       "      <th>2018-01-01</th>\n",
       "      <td>410040</td>\n",
       "      <td>41</td>\n",
       "      <td>4047</td>\n",
       "      <td>M</td>\n",
       "      <td>4</td>\n",
       "    </tr>\n",
       "    <tr>\n",
       "      <th>2018-01-01</th>\n",
       "      <td>431680</td>\n",
       "      <td>43</td>\n",
       "      <td>4032</td>\n",
       "      <td>M</td>\n",
       "      <td>2</td>\n",
       "    </tr>\n",
       "    <tr>\n",
       "      <th>2018-01-01</th>\n",
       "      <td>120040</td>\n",
       "      <td>12</td>\n",
       "      <td>4021</td>\n",
       "      <td>M</td>\n",
       "      <td>4</td>\n",
       "    </tr>\n",
       "    <tr>\n",
       "      <th>...</th>\n",
       "      <td>...</td>\n",
       "      <td>...</td>\n",
       "      <td>...</td>\n",
       "      <td>...</td>\n",
       "      <td>...</td>\n",
       "    </tr>\n",
       "    <tr>\n",
       "      <th>2018-12-31</th>\n",
       "      <td>310620</td>\n",
       "      <td>31</td>\n",
       "      <td>4004</td>\n",
       "      <td>F</td>\n",
       "      <td>4</td>\n",
       "    </tr>\n",
       "    <tr>\n",
       "      <th>2018-12-31</th>\n",
       "      <td>520870</td>\n",
       "      <td>52</td>\n",
       "      <td>4019</td>\n",
       "      <td>M</td>\n",
       "      <td>4</td>\n",
       "    </tr>\n",
       "    <tr>\n",
       "      <th>2018-12-31</th>\n",
       "      <td>120040</td>\n",
       "      <td>12</td>\n",
       "      <td>4028</td>\n",
       "      <td>F</td>\n",
       "      <td>4</td>\n",
       "    </tr>\n",
       "    <tr>\n",
       "      <th>2018-12-31</th>\n",
       "      <td>160060</td>\n",
       "      <td>16</td>\n",
       "      <td>4044</td>\n",
       "      <td>F</td>\n",
       "      <td>4</td>\n",
       "    </tr>\n",
       "    <tr>\n",
       "      <th>2018-12-31</th>\n",
       "      <td>353440</td>\n",
       "      <td>35</td>\n",
       "      <td>4051</td>\n",
       "      <td>M</td>\n",
       "      <td>1</td>\n",
       "    </tr>\n",
       "  </tbody>\n",
       "</table>\n",
       "<p>16885 rows × 5 columns</p>\n",
       "</div>"
      ],
      "text/plain": [
       "            ID_MUNICIP SG_UF  NU_IDADE_N CS_SEXO CS_RACA\n",
       "DT_NOTIFIC                                              \n",
       "2018-01-01      355220    35        4028       M       4\n",
       "2018-01-01      410690    41        4012       F       2\n",
       "2018-01-01      410040    41        4047       M       4\n",
       "2018-01-01      431680    43        4032       M       2\n",
       "2018-01-01      120040    12        4021       M       4\n",
       "...                ...   ...         ...     ...     ...\n",
       "2018-12-31      310620    31        4004       F       4\n",
       "2018-12-31      520870    52        4019       M       4\n",
       "2018-12-31      120040    12        4028       F       4\n",
       "2018-12-31      160060    16        4044       F       4\n",
       "2018-12-31      353440    35        4051       M       1\n",
       "\n",
       "[16885 rows x 5 columns]"
      ]
     },
     "execution_count": 5,
     "metadata": {},
     "output_type": "execute_result"
    }
   ],
   "source": [
    "dataframe_lepto_2018 = dataframe_lepto_2018[['ID_MUNICIP', 'SG_UF', 'NU_IDADE_N', 'CS_SEXO', 'CS_RACA']]\n",
    "dataframe_lepto_2018"
   ]
  },
  {
   "attachments": {},
   "cell_type": "markdown",
   "metadata": {},
   "source": [
    "## Respondendo as questões\n",
    "\n",
    "Agora, com tudo preparado, podemos começar a responder as questões a respeito da doença escolhida.  \n",
    "\n",
    "#### Questão 1\n",
    "\n",
    "Inicialmente, verificaremos **quantos casos de leptospirose foram notificados no Brasil em `2018`**. Para isso, basta verificar a quantidade de linhas do dataframe, já que cada linha corresponde a um caso notificado.   \n",
    "\n",
    "Para isso, basta o seguinte comando:"
   ]
  },
  {
   "cell_type": "code",
   "execution_count": 6,
   "metadata": {},
   "outputs": [
    {
     "data": {
      "text/plain": [
       "'foram notificados 16885 casos de leptospirose no Brasil em 2018'"
      ]
     },
     "execution_count": 6,
     "metadata": {},
     "output_type": "execute_result"
    }
   ],
   "source": [
    "f'foram notificados {len(dataframe_lepto_2018.index)} casos de leptospirose no Brasil em 2018'"
   ]
  },
  {
   "attachments": {},
   "cell_type": "markdown",
   "metadata": {},
   "source": [
    "#### Questão 2\n",
    "\n",
    "Verificaremos **Quantos casos de leptospirose foram notificados no Brasil em 2018, `por município`?**. Para isso, devemos agrupar os dados pela variável `ID_MUNICIP` e realizar a contagem.\n",
    "\n",
    "A tabela com a contagem de casos por município pode ser visualizada abaixo.\n"
   ]
  },
  {
   "cell_type": "code",
   "execution_count": 7,
   "metadata": {},
   "outputs": [
    {
     "data": {
      "text/plain": [
       "ID_MUNICIP\n",
       "120040    1020\n",
       "410690     861\n",
       "355030     850\n",
       "261160     462\n",
       "150240     344\n",
       "          ... \n",
       "353320       1\n",
       "353390       1\n",
       "353410       1\n",
       "353460       1\n",
       "353350       1\n",
       "Name: SG_UF, Length: 1269, dtype: int64"
      ]
     },
     "execution_count": 7,
     "metadata": {},
     "output_type": "execute_result"
    }
   ],
   "source": [
    "agrupado_por_municipio = dataframe_lepto_2018.groupby('ID_MUNICIP').count().sort_values('SG_UF', ascending=False)['SG_UF']\n",
    "agrupado_por_municipio"
   ]
  },
  {
   "attachments": {},
   "cell_type": "markdown",
   "metadata": {},
   "source": [
    "#### Questão 3\n",
    "\n",
    "Verificaremos **Quantos casos de leptospirose foram notificados no Brasil em 2018, `por estado`?**. Para isso, da mesma forma que na questão anterior, devemos agrupar os dados pela variável `SG_UF` e realizar a contagem."
   ]
  },
  {
   "cell_type": "code",
   "execution_count": 8,
   "metadata": {},
   "outputs": [
    {
     "data": {
      "text/plain": [
       "<Axes: title={'center': 'Casos de leptospirose em 2018 por estado'}, xlabel='SG_UF'>"
      ]
     },
     "execution_count": 8,
     "metadata": {},
     "output_type": "execute_result"
    },
    {
     "data": {
      "image/png": "[encoded data removed]",
      "text/plain": [
       "<Figure size 640x480 with 1 Axes>"
      ]
     },
     "metadata": {},
     "output_type": "display_data"
    }
   ],
   "source": [
    "agrupado_por_estado = dataframe_lepto_2018.dropna(subset = ['SG_UF']).groupby('SG_UF').count().sort_values('ID_MUNICIP', ascending=False)['ID_MUNICIP']\n",
    "agrupado_por_estado.plot.bar(color = '#d75413', title = 'Casos de leptospirose em 2018 por estado')"
   ]
  },
  {
   "attachments": {},
   "cell_type": "markdown",
   "metadata": {},
   "source": [
    "#### Questão 4\n",
    "\n",
    "Verificaremos **Quantos casos de leptospirose foram notificados no Brasil em 2018, `por mês`?**. Para isso, usamos o método `resample`, com o argumento 'M' para reorganizar os dados a partir dos meses e depois basta realizar a contagem. Vale ressaltar que o método resample funciona quando a série temporal está no índice."
   ]
  },
  {
   "cell_type": "code",
   "execution_count": 9,
   "metadata": {},
   "outputs": [
    {
     "data": {
      "text/plain": [
       "<Axes: title={'center': 'Casos de leptospirose em 2018 por mês'}, xlabel='DT_NOTIFIC'>"
      ]
     },
     "execution_count": 9,
     "metadata": {},
     "output_type": "execute_result"
    },
    {
     "data": {
      "image/png": "[encoded data removed]",
      "text/plain": [
       "<Figure size 640x480 with 1 Axes>"
      ]
     },
     "metadata": {},
     "output_type": "display_data"
    }
   ],
   "source": [
    "agrupado_por_mês = dataframe_lepto_2018.resample('M').count()['SG_UF']\n",
    "agrupado_por_mês.plot.line(title = 'Casos de leptospirose em 2018 por mês')"
   ]
  },
  {
   "attachments": {},
   "cell_type": "markdown",
   "metadata": {},
   "source": [
    "#### Questão 5\n",
    "\n",
    "Verificaremos **Quantos casos de leptospirose foram notificados no Brasil em 2018, `por faixa etária`?**. Para isso, devemos decodificar a idade apresentada no bando de dados, usando para isso a função `decodifica_idade_SINAN`, importada do pysus. As idades decodificadas foram armazenadas em uma nova coluna chamada **idade** no dataframe. Então podemos agrupar os dados pela variável `idade` e realizar a contagem.   \n"
   ]
  },
  {
   "cell_type": "code",
   "execution_count": 10,
   "metadata": {},
   "outputs": [
    {
     "data": {
      "text/plain": [
       "idade\n",
       "34.00     353\n",
       "33.00     351\n",
       "37.00     343\n",
       "31.00     340\n",
       "38.00     334\n",
       "         ... \n",
       "118.00      2\n",
       "0.05        1\n",
       "0.07        1\n",
       "90.00       1\n",
       "96.00       1\n",
       "Name: SG_UF, Length: 114, dtype: int64"
      ]
     },
     "execution_count": 10,
     "metadata": {},
     "output_type": "execute_result"
    }
   ],
   "source": [
    "pd.options.mode.chained_assignment = None\n",
    "dataframe_lepto_2018['idade'] = decodifica_idade_SINAN(dataframe_lepto_2018.NU_IDADE_N)\n",
    "dataframe_lepto_2018['idade'] = dataframe_lepto_2018['idade'].round(2)\n",
    "agrupado_por_idade = dataframe_lepto_2018.groupby('idade').count().sort_values('SG_UF', ascending=False)\n",
    "agrupado_por_idade.loc[:, 'SG_UF']"
   ]
  },
  {
   "attachments": {},
   "cell_type": "markdown",
   "metadata": {},
   "source": [
    "Contudo, para melhor visualização dos dados resolvi agrupar os dados por intervalos de 10 anos, aplicando um histograma."
   ]
  },
  {
   "cell_type": "code",
   "execution_count": 15,
   "metadata": {},
   "outputs": [
    {
     "data": {
      "text/plain": [
       "array([[<Axes: title={'center': 'idade'}>]], dtype=object)"
      ]
     },
     "execution_count": 15,
     "metadata": {},
     "output_type": "execute_result"
    },
    {
     "data": {
      "image/png": "[encoded data removed]",
      "text/plain": [
       "<Figure size 640x480 with 1 Axes>"
      ]
     },
     "metadata": {},
     "output_type": "display_data"
    }
   ],
   "source": [
    "dataframe_lepto_2018.hist('idade', grid = False)"
   ]
  },
  {
   "attachments": {},
   "cell_type": "markdown",
   "metadata": {},
   "source": [
    "#### Questão 6\n",
    "\n",
    "Verificaremos **Quantos casos de leptospirose foram notificados no Brasil em 2018, `por sexo`?**. Para isso, devemos agrupar os dados pela variável `CS_SEXO` e realizar a contagem."
   ]
  },
  {
   "cell_type": "code",
   "execution_count": 22,
   "metadata": {},
   "outputs": [
    {
     "data": {
      "text/plain": [
       "<Axes: title={'center': 'Número de casos de leptospirose por sexo'}, xlabel='CS_SEXO'>"
      ]
     },
     "execution_count": 22,
     "metadata": {},
     "output_type": "execute_result"
    },
    {
     "data": {
      "image/png": "[encoded data removed]",
      "text/plain": [
       "<Figure size 640x480 with 1 Axes>"
      ]
     },
     "metadata": {},
     "output_type": "display_data"
    }
   ],
   "source": [
    "agrupado_por_sexo = dataframe_lepto_2018.groupby('CS_SEXO').count().sort_values('SG_UF', ascending=False)['SG_UF']\n",
    "agrupado_por_sexo.plot.bar(title = 'Número de casos de leptospirose por sexo',rot = 0)"
   ]
  },
  {
   "cell_type": "markdown",
   "metadata": {},
   "source": [
    "#### Questão 7\n",
    "\n",
    "Verificaremos **Quantos casos de leptospirose foram notificados no Brasil em 2018, `raça/cor`?**. Para isso, devemos agrupar os dados pela variável `ID_MUNICIP` e realizar a contagem."
   ]
  },
  {
   "cell_type": "code",
   "execution_count": null,
   "metadata": {},
   "outputs": [],
   "source": [
    "agrupado_por_raca = dataframe_lepto_2018.groupby('CS_RACA').count().sort_values('SG_UF', ascending=False)\n",
    "# print(agrupado_por_raca['SG_UF'])"
   ]
  }
 ],
 "metadata": {
  "kernelspec": {
   "display_name": "Python 3",
   "language": "python",
   "name": "python3"
  },
  "language_info": {
   "codemirror_mode": {
    "name": "ipython",
    "version": 3
   },
   "file_extension": ".py",
   "mimetype": "text/x-python",
   "name": "python",
   "nbconvert_exporter": "python",
   "pygments_lexer": "ipython3",
   "version": "3.10.4"
  },
  "orig_nbformat": 4
 },
 "nbformat": 4,
 "nbformat_minor": 2
}
